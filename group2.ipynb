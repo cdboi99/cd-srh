{
 "cells": [
  {
   "cell_type": "markdown",
   "id": "02cc64f3-c89f-4333-8554-20737c3980b1",
   "metadata": {},
   "source": [
    "## Group 2"
   ]
  },
  {
   "cell_type": "markdown",
   "id": "1837a4d7-e22c-4717-8d8c-a8448467983e",
   "metadata": {},
   "source": [
    "In this exercise, we will code a basic game to be played between the computer and the user. **We will build the game based on if and else statements.** After establishing the structure of the game and making it work, we can make the game even more complex in the next steps.\n",
    "\n",
    "The first goal of the exercise is to establish the basic structure of the game. You need to do this as a group. In order to understand Python data types and if else statements well, it is very important that you code the game by discussing and brainstorming as a group, without getting help from the internet or generative AI. Take the notebooks used in the course as a source and try to create the basic framework of the game by using the trial and error method and trying to understand the errors you encounter.\n",
    "\n",
    "- You have **40 minutes** to finish this exercise.\n",
    "- Try to complete as many stages as you can in the next 40 minutes. However, your first goal should be to finish just the basic skeleton.\n",
    "- The next steps depend on your wishes and how much time you have left.\n",
    "- Afterwards, you will need to make a short presentation as a group and explain the code you wrote and the game you prepared to your classmates. That's why it is very important that you understand the code and game you wrote."
   ]
  },
  {
   "cell_type": "markdown",
   "id": "ff566616-0443-418b-a317-7c864dca2737",
   "metadata": {},
   "source": [
    "### Part 1: Start the game\n",
    "\n",
    "Games do not start suddenly, you need to inform the player about the game and its rules. The game you will prepare as a group is a basic guessing game.\n",
    "\n",
    "The user is going to play the game with the computer. The user is going to enter their move as a number between 1 to 10.  The computer is going to randomly select a number out of 1 to 10 and we will compare the numbers and the player who selected the higher number is going to win and we will announce the result of the game as an output.\n",
    "\n",
    "- Prepare a formal/nice information message to briefly introduce the game\n",
    "- Think about which python function you can use for that?\n"
   ]
  },
  {
   "cell_type": "code",
   "execution_count": 17,
   "id": "1b65903a-cfdf-40c2-819c-6fd53cddafdc",
   "metadata": {},
   "outputs": [
    {
     "name": "stdin",
     "output_type": "stream",
     "text": [
      "What is your name ade\n"
     ]
    },
    {
     "name": "stdout",
     "output_type": "stream",
     "text": [
      " welcome player ade, This is a guessing game ,  pick a number number between 1 - 10\n"
     ]
    },
    {
     "name": "stdin",
     "output_type": "stream",
     "text": [
      "Enter a number 23\n",
      "What is your name ade\n"
     ]
    },
    {
     "name": "stdout",
     "output_type": "stream",
     "text": [
      " welcome player ade, This is a guessing game ,  pick a number number between 1 - 10\n"
     ]
    },
    {
     "name": "stdin",
     "output_type": "stream",
     "text": [
      "Enter a number 5\n"
     ]
    },
    {
     "name": "stdout",
     "output_type": "stream",
     "text": [
      "You lose ade the number is 3\n"
     ]
    }
   ],
   "source": [
    "import random\n",
    "\n",
    "name = input(\"What is your name\")\n",
    "intro = 'This is a guessing game ,  pick a number number between 1 - 10'\n",
    "print(f' welcome player {name}, {intro}')\n",
    "\n",
    "x = random.randrange(1,11)\n",
    "y = int(input(\"Enter a number\"))\n",
    "if 0 < y <=10:\n",
    "     if y == x :\n",
    "        print(f'congratulations ! you won {name}')\n",
    "\n",
    "name = input(\"What is your name\")\n",
    "intro = 'This is a guessing game ,  pick a number number between 1 - 10'\n",
    "print(f' welcome player {name}, {intro}')\n",
    "\n",
    "x = random.randrange(1,11)\n",
    "y = int(input(\"Enter a number\"))\n",
    "if 0 < y <=10:\n",
    "    if y == x :\n",
    "        print(f'yOU WON {name}')\n",
    "    else: print(f'You lose {name} the number is {x}')\n",
    "else: print(f'Pick a number in the range {name}')"
   ]
  },
  {
   "cell_type": "code",
   "execution_count": null,
   "id": "95fa567d-17b6-43a3-816b-ea32d2d74974",
   "metadata": {},
   "outputs": [],
   "source": []
  },
  {
   "cell_type": "markdown",
   "id": "6beb202e",
   "metadata": {},
   "source": [
    "\n"
   ]
  },
  {
   "cell_type": "markdown",
   "id": "171f1df7",
   "metadata": {},
   "source": [
    "### Part 2: Interaction with the user\n",
    "To make the game more interactive, let's address the user by name.\n",
    "- Ask the name of the user\n",
    "- Greet the user with using their name and printing a nice message, and list the options the user should select.\n",
    "- Example \" hello ..., welcome to the game. Please enter ...\"\n",
    "- Save user's choice as a variable to use later in if elif and else statements.\n",
    "- Hint: check input function"
   ]
  },
  {
   "cell_type": "code",
   "execution_count": null,
   "id": "8371029f",
   "metadata": {},
   "outputs": [],
   "source": [
    "name =\n",
    "\n",
    "\n",
    "\n"
   ]
  },
  {
   "cell_type": "code",
   "execution_count": null,
   "id": "f6e4a79c",
   "metadata": {},
   "outputs": [],
   "source": []
  },
  {
   "cell_type": "markdown",
   "id": "82478719-fb05-4679-8630-73167d5d937e",
   "metadata": {},
   "source": [
    "### Part 3: Modify your code!\n",
    "We are going to compare the numbers with >, < and =. Think about which to data type returns the input function? Try to convert user's choice to the desired data type."
   ]
  },
  {
   "cell_type": "markdown",
   "id": "42a01637",
   "metadata": {},
   "source": [
    "### Part 4: Make the computer randomly choose what to play"
   ]
  },
  {
   "cell_type": "markdown",
   "id": "cdd77363",
   "metadata": {},
   "source": [
    "For a fair game, it would be better for computer to choose a number between 1-10 randomly. To make it possible, we are going to use the `random` library.\n",
    "\n",
    "Random module in python requires no installation as it comes built-in with Python"
   ]
  },
  {
   "cell_type": "markdown",
   "id": "b9ef454c-6871-420e-9552-0d8db01b9e48",
   "metadata": {},
   "source": [
    "Let's practice random to understand how it works"
   ]
  },
  {
   "cell_type": "code",
   "execution_count": null,
   "id": "3cdf7bcf-6f50-44a3-8023-d20e85168795",
   "metadata": {},
   "outputs": [],
   "source": [
    "#importing the random module\n",
    "import random"
   ]
  },
  {
   "cell_type": "markdown",
   "id": "0312686e-cdd3-4ce3-a01d-028faf3ca9d7",
   "metadata": {},
   "source": [
    "**randrange for a range of numbers**"
   ]
  },
  {
   "cell_type": "code",
   "execution_count": null,
   "id": "735abccb-0381-4358-a937-a7479c7b570f",
   "metadata": {},
   "outputs": [],
   "source": [
    "# does not include the end parameter, in this example it means only for the numbers 1,2,3,4\n",
    "y = random.randrange(1,5)\n",
    "y"
   ]
  },
  {
   "cell_type": "markdown",
   "id": "f31ad064-600e-4b59-8b68-d88111f8e537",
   "metadata": {},
   "source": [
    "**random.choice**"
   ]
  },
  {
   "cell_type": "code",
   "execution_count": null,
   "id": "0acf4629-3386-46ad-8cc9-d49ee287e150",
   "metadata": {},
   "outputs": [],
   "source": [
    "#choice\n",
    "x = random.choice('abcdefg')\n",
    "x"
   ]
  },
  {
   "cell_type": "markdown",
   "id": "bf3131a6-6524-46b9-8395-27d2b4a0ad63",
   "metadata": {},
   "source": [
    "Now, let's use random for computer to make a random choice from the range of the numbers and save it as a variable to use later."
   ]
  },
  {
   "cell_type": "code",
   "execution_count": null,
   "id": "db2fb74e",
   "metadata": {},
   "outputs": [],
   "source": [
    "computer="
   ]
  },
  {
   "cell_type": "code",
   "execution_count": null,
   "id": "b3390e25-3646-4de3-95d6-40a2b4963b81",
   "metadata": {},
   "outputs": [],
   "source": []
  },
  {
   "cell_type": "code",
   "execution_count": null,
   "id": "eea533c1-d3d8-4ee9-b931-09f93d918e93",
   "metadata": {},
   "outputs": [],
   "source": []
  },
  {
   "cell_type": "code",
   "execution_count": null,
   "id": "1bf3a54a-61f9-45df-9991-df8632c943dc",
   "metadata": {},
   "outputs": [],
   "source": []
  },
  {
   "cell_type": "markdown",
   "id": "754d3c7c-665c-48e5-8faf-adbdc7c3c412",
   "metadata": {},
   "source": [
    "### Part 5: compare computer and the user's moves"
   ]
  },
  {
   "cell_type": "markdown",
   "id": "73b314a9-b963-4b7b-8fe1-ced973ac90de",
   "metadata": {},
   "source": [
    "Now, we need to use if, elif and else statements to compare the moves and print the game result. Check the game rules again. Think about all the possible options and write statements for each.\n",
    "Example\n",
    "```\n",
    "if player == computer:\n",
    "    print(\"it's a draw\")\n",
    "```\n",
    "If user gives an input lower than 0, print a warning message as \" wrong input, GAME OVER\"\n",
    "If user gives an input higher than 10, print a warning message as \" wrong input, GAME OVER\"\n"
   ]
  },
  {
   "cell_type": "code",
   "execution_count": null,
   "id": "38a13d13-dc14-4eb6-9cc5-2134e16250ce",
   "metadata": {},
   "outputs": [],
   "source": [
    "if\n",
    "\n",
    "elif\n",
    "\n",
    "elif\n",
    "...\n",
    "\n",
    "\n",
    "\n"
   ]
  },
  {
   "cell_type": "markdown",
   "id": "befb399f-72dc-45ed-bb55-8d9dbe04eddd",
   "metadata": {},
   "source": [
    "### Part 6: Ready to play?\n",
    "If all the steps worked, your game is ready. To see all the steps together and run the game in one cell, move everything together in one cell\n",
    "\n",
    "Start with introduction message,after that greet the user with their name, ask what move the user wants to play, make computer to choose randomly, put all the if and elif and else statements and announce the winner|"
   ]
  },
  {
   "cell_type": "code",
   "execution_count": null,
   "id": "a861a8d1-5f9c-40e5-beef-4a31a4ff6036",
   "metadata": {},
   "outputs": [],
   "source": [
    "# Game info\n",
    "\n",
    "\n",
    "\n",
    "# Ask user name and greet\n",
    "\n",
    "\n",
    "# get the input from the user\n",
    "\n",
    "\n",
    "#make computer to make a random choice\n",
    "\n",
    "\n",
    "# if else and checking who is winning and announcing the game result"
   ]
  },
  {
   "cell_type": "code",
   "execution_count": null,
   "id": "0f73d376-3593-4cb8-9346-41a8718304c4",
   "metadata": {},
   "outputs": [],
   "source": []
  },
  {
   "cell_type": "code",
   "execution_count": null,
   "id": "117d3a0c-b26b-47a3-a76b-330a1869c326",
   "metadata": {},
   "outputs": [],
   "source": []
  },
  {
   "cell_type": "code",
   "execution_count": null,
   "id": "f7fd4dba-448b-4340-bac2-cbb7ccd3c3e6",
   "metadata": {},
   "outputs": [],
   "source": []
  },
  {
   "cell_type": "markdown",
   "id": "856bddb6-a4aa-4668-a001-4589a251416b",
   "metadata": {},
   "source": [
    "## BONUS\n",
    "You do not have to follow the bonuses in order. You can select the ones you would like to apply, or you can apply all of them"
   ]
  },
  {
   "cell_type": "markdown",
   "id": "e5751f77-bc84-490e-949d-9117def5282f",
   "metadata": {},
   "source": [
    "### BONUS 1: Greet the user addressing their name always uppercase\n",
    "use a method to make it happen\n"
   ]
  },
  {
   "cell_type": "code",
   "execution_count": null,
   "id": "93d6ce04-2a5d-4a5b-8499-c87dea3a3c14",
   "metadata": {},
   "outputs": [],
   "source": []
  },
  {
   "cell_type": "markdown",
   "id": "f67b4806",
   "metadata": {},
   "source": [
    "### BONUS 2: How can we know what the computer played?"
   ]
  },
  {
   "cell_type": "markdown",
   "id": "c75697c3",
   "metadata": {},
   "source": [
    "Now, our game is ready for all the scenarios. However, it would be good to see which number the computer randomly selected. Try to find a way to display it before printing the result"
   ]
  },
  {
   "cell_type": "code",
   "execution_count": null,
   "id": "4ef72f43",
   "metadata": {},
   "outputs": [],
   "source": []
  },
  {
   "cell_type": "code",
   "execution_count": null,
   "id": "5f77edcd",
   "metadata": {},
   "outputs": [],
   "source": []
  },
  {
   "cell_type": "markdown",
   "id": "469501c0",
   "metadata": {},
   "source": []
  },
  {
   "cell_type": "code",
   "execution_count": null,
   "id": "2550e526-630c-45a3-baee-873059fbcada",
   "metadata": {},
   "outputs": [],
   "source": []
  },
  {
   "cell_type": "code",
   "execution_count": null,
   "id": "3a720e0d-c828-4f57-a02b-fe4974574ff2",
   "metadata": {},
   "outputs": [],
   "source": []
  },
  {
   "cell_type": "code",
   "execution_count": null,
   "id": "350df241-9b19-4724-ac82-521041bf3466",
   "metadata": {},
   "outputs": [],
   "source": []
  },
  {
   "cell_type": "markdown",
   "id": "4d2157de",
   "metadata": {},
   "source": [
    "### BONUS 3 State variables"
   ]
  },
  {
   "cell_type": "markdown",
   "id": "c88ace0c",
   "metadata": {},
   "source": [
    "You can have a more compact code for your game. The following example saves a comparison expression in a variable of the data type bool. Complete the code and update your game with using the idea below:"
   ]
  },
  {
   "cell_type": "code",
   "execution_count": null,
   "id": "0360d215",
   "metadata": {},
   "outputs": [],
   "source": [
    "invalid_input = (player < 10 ) \\\n",
    "               or (player ...) \\\n",
    "               or (...)\n",
    "...\n",
    "if invalid_input:\n",
    "    print('the number you chose if out of the range')"
   ]
  },
  {
   "cell_type": "code",
   "execution_count": null,
   "id": "106a12fe",
   "metadata": {},
   "outputs": [],
   "source": []
  },
  {
   "cell_type": "markdown",
   "id": "0d1a690b-4225-4a9e-99ec-95717ad1b025",
   "metadata": {},
   "source": [
    "### BONUS 4: Save your code as a python file\n",
    "Create a python file as `game_py`. Copy your game with all steps and run it in terminal and make sure that it does not break."
   ]
  },
  {
   "cell_type": "code",
   "execution_count": null,
   "id": "26da9d64-61ea-4bb3-b401-1bc01c2c0fcf",
   "metadata": {},
   "outputs": [],
   "source": []
  },
  {
   "cell_type": "code",
   "execution_count": null,
   "id": "b339a87e-f19a-414b-9b4d-afa9adc9b14c",
   "metadata": {},
   "outputs": [],
   "source": []
  },
  {
   "cell_type": "code",
   "execution_count": null,
   "id": "baca3bcf-4cfc-45ee-84ed-4156272ea056",
   "metadata": {},
   "outputs": [],
   "source": []
  },
  {
   "cell_type": "markdown",
   "id": "21821e25-b098-4a96-ace0-a3b41e9d2508",
   "metadata": {},
   "source": [
    "### BONUS 5: Time Modul\n",
    "The game information message is appearing on screen very suddenly. Check the code below, try to understand what is the purpose, and try to adopt it into your game."
   ]
  },
  {
   "cell_type": "code",
   "execution_count": null,
   "id": "1e246aaa-adf3-4062-832a-9540b4734dda",
   "metadata": {},
   "outputs": [],
   "source": [
    "import time\n",
    "print(\"You are great at programming!\")\n",
    "time.sleep(3)\n",
    "print(\"congrats!\")\n",
    "time.sleep(3)\n",
    "print(\"you made a great game!\")"
   ]
  },
  {
   "cell_type": "code",
   "execution_count": null,
   "id": "c8df4736-fd80-4597-b706-fdd6ed251f93",
   "metadata": {},
   "outputs": [],
   "source": []
  },
  {
   "cell_type": "code",
   "execution_count": null,
   "id": "99e7b699-83df-4beb-b1b8-f2f5666f633d",
   "metadata": {},
   "outputs": [],
   "source": []
  },
  {
   "cell_type": "code",
   "execution_count": null,
   "id": "50020ded-4634-4eca-9aca-188c8e6f1da5",
   "metadata": {},
   "outputs": [],
   "source": []
  },
  {
   "cell_type": "markdown",
   "id": "9b09bf77-73f3-45c9-9c5d-267066e1676c",
   "metadata": {},
   "source": [
    "\n",
    "### BONUS 6: Emojis\n",
    "Check this link, if you would like to add some emojis into your game\n",
    "https://www.geeksforgeeks.org/python-program-to-print-emojis/"
   ]
  },
  {
   "cell_type": "code",
   "execution_count": null,
   "id": "35c5d27a-3a2a-402b-98aa-b54654e23e49",
   "metadata": {},
   "outputs": [],
   "source": []
  }
 ],
 "metadata": {
  "kernelspec": {
   "display_name": "Python 3 (ipykernel)",
   "language": "python",
   "name": "python3"
  },
  "language_info": {
   "codemirror_mode": {
    "name": "ipython",
    "version": 3
   },
   "file_extension": ".py",
   "mimetype": "text/x-python",
   "name": "python",
   "nbconvert_exporter": "python",
   "pygments_lexer": "ipython3",
   "version": "3.12.2"
  }
 },
 "nbformat": 4,
 "nbformat_minor": 5
}
