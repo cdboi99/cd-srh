{
 "cells": [
  {
   "cell_type": "markdown",
   "id": "fdcf45d7",
   "metadata": {},
   "source": [
    "# First operations with lists"
   ]
  },
  {
   "cell_type": "code",
   "execution_count": 32,
   "id": "203d7544",
   "metadata": {},
   "outputs": [],
   "source": [
    "# list creation\n",
    "letters = [\"a\", \"b\", \"c\", \"d\", \"d\"]"
   ]
  },
  {
   "cell_type": "code",
   "execution_count": 33,
   "id": "6656a83c-0a5b-468a-9a8f-daca14185a04",
   "metadata": {
    "scrolled": true
   },
   "outputs": [
    {
     "data": {
      "text/plain": [
       "list"
      ]
     },
     "execution_count": 33,
     "metadata": {},
     "output_type": "execute_result"
    }
   ],
   "source": [
    "type(letters)"
   ]
  },
  {
   "cell_type": "code",
   "execution_count": 9,
   "id": "3a96f0fa-1f14-4487-98b3-548858bd8f47",
   "metadata": {},
   "outputs": [],
   "source": [
    "a =[]"
   ]
  },
  {
   "cell_type": "code",
   "execution_count": 10,
   "id": "89ccd0a1",
   "metadata": {},
   "outputs": [
    {
     "data": {
      "text/plain": [
       "list"
      ]
     },
     "execution_count": 10,
     "metadata": {},
     "output_type": "execute_result"
    }
   ],
   "source": [
    "type(a)"
   ]
  },
  {
   "cell_type": "code",
   "execution_count": 25,
   "id": "c0f6dcf4",
   "metadata": {},
   "outputs": [],
   "source": [
    "# add some elements to the list\n",
    "letters.extend([\"g\", \"h\"])\n"
   ]
  },
  {
   "cell_type": "code",
   "execution_count": 19,
   "id": "fb74c0d5",
   "metadata": {},
   "outputs": [
    {
     "data": {
      "text/plain": [
       "['a',\n",
       " 'b',\n",
       " 'c',\n",
       " 'd',\n",
       " 'd',\n",
       " 'g',\n",
       " 'h',\n",
       " 'g',\n",
       " 'h',\n",
       " 'g',\n",
       " 'h',\n",
       " 'g',\n",
       " 'h',\n",
       " 'g',\n",
       " 'h',\n",
       " 'g',\n",
       " 'h']"
      ]
     },
     "execution_count": 19,
     "metadata": {},
     "output_type": "execute_result"
    }
   ],
   "source": [
    "letters"
   ]
  },
  {
   "cell_type": "code",
   "execution_count": 26,
   "id": "cd57f754-70ff-4610-b1cd-c8e6b17d33f1",
   "metadata": {},
   "outputs": [],
   "source": [
    "letters.append(['g', 'h'])"
   ]
  },
  {
   "cell_type": "code",
   "execution_count": 27,
   "id": "1e90ea92-6aa1-4178-9fc3-9c724c6675c8",
   "metadata": {},
   "outputs": [
    {
     "data": {
      "text/plain": [
       "['a', 'b', 'c', 'd', 'd', 'g', 'h', ['g', 'h']]"
      ]
     },
     "execution_count": 27,
     "metadata": {},
     "output_type": "execute_result"
    }
   ],
   "source": [
    "letters"
   ]
  },
  {
   "cell_type": "code",
   "execution_count": 28,
   "id": "85663f88",
   "metadata": {},
   "outputs": [
    {
     "data": {
      "text/plain": [
       "8"
      ]
     },
     "execution_count": 28,
     "metadata": {},
     "output_type": "execute_result"
    }
   ],
   "source": [
    "# return the length of a list\n",
    "len(letters)"
   ]
  },
  {
   "cell_type": "code",
   "execution_count": 20,
   "id": "ee182278",
   "metadata": {},
   "outputs": [
    {
     "data": {
      "text/plain": [
       "'h'"
      ]
     },
     "execution_count": 20,
     "metadata": {},
     "output_type": "execute_result"
    }
   ],
   "source": [
    "letters[-1]"
   ]
  },
  {
   "cell_type": "code",
   "execution_count": 21,
   "id": "83a0458a",
   "metadata": {},
   "outputs": [
    {
     "data": {
      "text/plain": [
       "['b', 'c']"
      ]
     },
     "execution_count": 21,
     "metadata": {},
     "output_type": "execute_result"
    }
   ],
   "source": [
    "# slicing: \n",
    "letters[1:3]\n",
    "\n",
    "# What do you notice?"
   ]
  },
  {
   "cell_type": "code",
   "execution_count": null,
   "id": "6ff37be9",
   "metadata": {},
   "outputs": [],
   "source": []
  },
  {
   "cell_type": "code",
   "execution_count": null,
   "id": "b3791509",
   "metadata": {},
   "outputs": [],
   "source": []
  },
  {
   "cell_type": "code",
   "execution_count": 22,
   "id": "661bf61b",
   "metadata": {},
   "outputs": [],
   "source": [
    "# List can store values of different types\n",
    "namecounts= [\"Abdullah\", 123, \"Ayesha\", 456]"
   ]
  },
  {
   "cell_type": "code",
   "execution_count": 23,
   "id": "6b7b6edb",
   "metadata": {},
   "outputs": [
    {
     "name": "stdout",
     "output_type": "stream",
     "text": [
      "['Abdullah', 123, 'Ayesha', 456, 'Basel']\n"
     ]
    }
   ],
   "source": [
    "# we can add elements\n",
    "namecounts.append(\"Basel\")\n",
    "print(namecounts)"
   ]
  },
  {
   "cell_type": "code",
   "execution_count": null,
   "id": "db182150",
   "metadata": {},
   "outputs": [],
   "source": [
    "# and we can remove elements\n",
    "namecounts.remove(\"...\")\n",
    "print(namecounts)"
   ]
  },
  {
   "cell_type": "code",
   "execution_count": null,
   "id": "526eb5fb",
   "metadata": {},
   "outputs": [],
   "source": [
    "# we can also remove the last element\n",
    "namecounts.pop()\n",
    "print(namecounts)"
   ]
  },
  {
   "cell_type": "markdown",
   "id": "ef9bd271",
   "metadata": {},
   "source": [
    "**Note: all three methods pop(), append() and remove() modify the list in-place: this means that the original list is overwritten and replaced by the new one after being modified by the method**"
   ]
  },
  {
   "cell_type": "markdown",
   "id": "9d560bf1",
   "metadata": {},
   "source": [
    "## Manipulating lists"
   ]
  },
  {
   "cell_type": "code",
   "execution_count": 31,
   "id": "0595b70c",
   "metadata": {},
   "outputs": [
    {
     "data": {
      "text/plain": [
       "0"
      ]
     },
     "execution_count": 31,
     "metadata": {},
     "output_type": "execute_result"
    }
   ],
   "source": [
    "# searches for and counts the number of an element in a list\n",
    "letters.count(\"d\")"
   ]
  },
  {
   "cell_type": "code",
   "execution_count": 34,
   "id": "9e213265",
   "metadata": {},
   "outputs": [],
   "source": [
    "p = [(1,2), 'b', 5.0, 'g']"
   ]
  },
  {
   "cell_type": "code",
   "execution_count": 35,
   "id": "16ae3d3d-c115-4d52-96f8-97458583b30a",
   "metadata": {},
   "outputs": [
    {
     "data": {
      "text/plain": [
       "[(1, 2), 'b', 5.0, 'g']"
      ]
     },
     "execution_count": 35,
     "metadata": {},
     "output_type": "execute_result"
    }
   ],
   "source": [
    "p"
   ]
  },
  {
   "cell_type": "code",
   "execution_count": null,
   "id": "8285f037-9370-4320-bc50-d4a5a933696d",
   "metadata": {},
   "outputs": [],
   "source": []
  }
 ],
 "metadata": {
  "kernelspec": {
   "display_name": "Python 3 (ipykernel)",
   "language": "python",
   "name": "python3"
  },
  "language_info": {
   "codemirror_mode": {
    "name": "ipython",
    "version": 3
   },
   "file_extension": ".py",
   "mimetype": "text/x-python",
   "name": "python",
   "nbconvert_exporter": "python",
   "pygments_lexer": "ipython3",
   "version": "3.12.2"
  }
 },
 "nbformat": 4,
 "nbformat_minor": 5
}
