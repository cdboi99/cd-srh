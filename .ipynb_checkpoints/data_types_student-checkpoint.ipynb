{
 "cells": [
  {
   "cell_type": "markdown",
   "id": "f2403db3",
   "metadata": {},
   "source": [
    "# PART 1"
   ]
  },
  {
   "cell_type": "markdown",
   "id": "4b78841a",
   "metadata": {},
   "source": [
    "# 1-Defining a Variable"
   ]
  },
  {
   "cell_type": "code",
   "execution_count": null,
   "id": "71e7ba98",
   "metadata": {},
   "outputs": [],
   "source": [
    "x=\n",
    "y="
   ]
  },
  {
   "cell_type": "code",
   "execution_count": null,
   "id": "bd427b51",
   "metadata": {},
   "outputs": [],
   "source": [
    "print (x > y)"
   ]
  },
  {
   "cell_type": "code",
   "execution_count": null,
   "id": "358395a0",
   "metadata": {},
   "outputs": [],
   "source": []
  },
  {
   "cell_type": "code",
   "execution_count": null,
   "id": "bd235ea3",
   "metadata": {},
   "outputs": [],
   "source": []
  },
  {
   "cell_type": "markdown",
   "id": "60809702",
   "metadata": {},
   "source": [
    "### Variables\n",
    "\n",
    "A variable can have any name as long as it follows the rules. Be creative but \n",
    "\n",
    "try to be as precise as possible! When naming things, please stick to these guidelines:\n",
    "\n",
    "\\- Only use letters\n",
    "\n",
    "\\- Write everything in lowercase\n",
    "\n",
    "\\- Separate words with the underscore character `_`"
   ]
  },
  {
   "cell_type": "code",
   "execution_count": null,
   "id": "387cd4ab",
   "metadata": {},
   "outputs": [],
   "source": [
    "# Can I have numbers in a variable name?"
   ]
  },
  {
   "cell_type": "code",
   "execution_count": null,
   "id": "ade02b37",
   "metadata": {},
   "outputs": [],
   "source": [
    "89_hilal = 3"
   ]
  },
  {
   "cell_type": "code",
   "execution_count": null,
   "id": "903095d1",
   "metadata": {},
   "outputs": [],
   "source": [
    "hilal_89 = 2"
   ]
  },
  {
   "cell_type": "code",
   "execution_count": null,
   "id": "a6ce29bc",
   "metadata": {},
   "outputs": [],
   "source": [
    "type(hilal_89)"
   ]
  },
  {
   "cell_type": "markdown",
   "id": "bc6db178",
   "metadata": {},
   "source": []
  },
  {
   "cell_type": "markdown",
   "id": "1dcb1c6d",
   "metadata": {},
   "source": []
  },
  {
   "cell_type": "code",
   "execution_count": null,
   "id": "fc9f0578",
   "metadata": {},
   "outputs": [],
   "source": []
  },
  {
   "cell_type": "markdown",
   "id": "244db619",
   "metadata": {},
   "source": [
    "# 2-Integer, String, Float and Boolean"
   ]
  },
  {
   "cell_type": "markdown",
   "id": "4aa52294",
   "metadata": {},
   "source": [
    "- Int: a whole number (... -2, -1, 0, 1, 2…)\n",
    "- Float: the real numbers, number with decimals\n",
    "- String: text values\n",
    "- Boolean: used to represent the truth value of an expression"
   ]
  },
  {
   "cell_type": "code",
   "execution_count": null,
   "id": "fca978fc",
   "metadata": {},
   "outputs": [],
   "source": [
    "d = "
   ]
  },
  {
   "cell_type": "code",
   "execution_count": null,
   "id": "973e7b22",
   "metadata": {},
   "outputs": [],
   "source": [
    "type()"
   ]
  },
  {
   "cell_type": "code",
   "execution_count": null,
   "id": "c1c78ee1",
   "metadata": {},
   "outputs": [],
   "source": [
    "e= False"
   ]
  },
  {
   "cell_type": "code",
   "execution_count": null,
   "id": "4c2e80fa",
   "metadata": {},
   "outputs": [],
   "source": [
    "type()"
   ]
  },
  {
   "cell_type": "markdown",
   "id": "76d0ca38",
   "metadata": {},
   "source": [
    "# PART 2"
   ]
  },
  {
   "cell_type": "markdown",
   "id": "92932ded",
   "metadata": {},
   "source": [
    "# 1- Defining strings"
   ]
  },
  {
   "cell_type": "code",
   "execution_count": null,
   "id": "eacb05ab",
   "metadata": {},
   "outputs": [],
   "source": []
  },
  {
   "cell_type": "code",
   "execution_count": null,
   "id": "eda8cdc2",
   "metadata": {},
   "outputs": [],
   "source": [
    "#method 1: single quotes and f string\n",
    "\n",
    "name = 'SRH'\n",
    "\n",
    "print(f\"name: {name}\")"
   ]
  },
  {
   "cell_type": "code",
   "execution_count": null,
   "id": "14318da3",
   "metadata": {},
   "outputs": [],
   "source": [
    "### f string"
   ]
  },
  {
   "cell_type": "code",
   "execution_count": null,
   "id": "b999e8a2",
   "metadata": {},
   "outputs": [],
   "source": [
    "name = 'Hilal'\n",
    "number = 35\n",
    "\n",
    "print(f'Hello {name}')\n",
    "print(f'Result: {number}')\n",
    "print(f'Hi {name}, you are {number} years old!')"
   ]
  },
  {
   "cell_type": "code",
   "execution_count": null,
   "id": "fa5c9daa",
   "metadata": {},
   "outputs": [],
   "source": [
    "#method3: Tripple quotes\n",
    "\n",
    "text = '''\n",
    "Hi! my name is Hilal\n",
    "\n",
    "What's your name ?\n",
    "        '''\n",
    "\n",
    "print(text)"
   ]
  },
  {
   "cell_type": "markdown",
   "id": "03409f1d",
   "metadata": {},
   "source": [
    "# 2- Substrings"
   ]
  },
  {
   "cell_type": "code",
   "execution_count": null,
   "id": "05b7d706",
   "metadata": {},
   "outputs": [],
   "source": [
    "name = 'Selma Hadzic'"
   ]
  },
  {
   "cell_type": "code",
   "execution_count": null,
   "id": "7ae65a53",
   "metadata": {},
   "outputs": [],
   "source": [
    "name[2]"
   ]
  },
  {
   "cell_type": "code",
   "execution_count": null,
   "id": "9a147203-4b43-4e09-a65c-d5ecf47b1c1d",
   "metadata": {},
   "outputs": [],
   "source": [
    "name[5]"
   ]
  },
  {
   "cell_type": "code",
   "execution_count": null,
   "id": "9d1625f8-86ff-417a-9f0c-eded73650ee2",
   "metadata": {},
   "outputs": [],
   "source": [
    "name[12]"
   ]
  },
  {
   "cell_type": "code",
   "execution_count": null,
   "id": "aec07b0c",
   "metadata": {},
   "outputs": [],
   "source": [
    "name[0:3]"
   ]
  },
  {
   "cell_type": "code",
   "execution_count": null,
   "id": "1b9d2db3",
   "metadata": {},
   "outputs": [],
   "source": [
    "name[:3]"
   ]
  },
  {
   "cell_type": "code",
   "execution_count": null,
   "id": "e9ed8ca8",
   "metadata": {},
   "outputs": [],
   "source": []
  },
  {
   "cell_type": "code",
   "execution_count": null,
   "id": "a74a95fe",
   "metadata": {},
   "outputs": [],
   "source": [
    "name[-4]"
   ]
  },
  {
   "cell_type": "code",
   "execution_count": null,
   "id": "ceb8c27e-9bbe-4345-9ae2-bf8fd33605c6",
   "metadata": {},
   "outputs": [],
   "source": [
    "name[-1]"
   ]
  },
  {
   "cell_type": "code",
   "execution_count": null,
   "id": "2e7dfaa9-a6ab-4849-9511-b8c0b360fa65",
   "metadata": {},
   "outputs": [],
   "source": [
    "name[-1:-4]"
   ]
  },
  {
   "cell_type": "code",
   "execution_count": null,
   "id": "fbbbe3c3-1abd-43d8-96f7-399a66fdc137",
   "metadata": {},
   "outputs": [],
   "source": [
    "name[-4:-1]"
   ]
  },
  {
   "cell_type": "markdown",
   "id": "6532b948",
   "metadata": {},
   "source": [
    "# 3- String Methods"
   ]
  },
  {
   "cell_type": "code",
   "execution_count": null,
   "id": "a577aa36",
   "metadata": {},
   "outputs": [],
   "source": [
    "name = ' Manipulating Strings n '"
   ]
  },
  {
   "cell_type": "code",
   "execution_count": null,
   "id": "31a0f6a5",
   "metadata": {},
   "outputs": [],
   "source": [
    "name.upper()"
   ]
  },
  {
   "cell_type": "code",
   "execution_count": null,
   "id": "047e49a9",
   "metadata": {},
   "outputs": [],
   "source": [
    "name"
   ]
  },
  {
   "cell_type": "code",
   "execution_count": null,
   "id": "a50a5a9f-0e54-4b70-8c01-24e2e48d0d6e",
   "metadata": {},
   "outputs": [],
   "source": [
    "name =name.upper()"
   ]
  },
  {
   "cell_type": "code",
   "execution_count": null,
   "id": "b654dd8f-57f5-463f-a5c7-506cd11e7737",
   "metadata": {},
   "outputs": [],
   "source": [
    "name"
   ]
  },
  {
   "cell_type": "code",
   "execution_count": null,
   "id": "41b69a9c",
   "metadata": {},
   "outputs": [],
   "source": [
    "name.lower()"
   ]
  },
  {
   "cell_type": "code",
   "execution_count": null,
   "id": "dbdcf93e",
   "metadata": {},
   "outputs": [],
   "source": [
    "name"
   ]
  },
  {
   "cell_type": "code",
   "execution_count": null,
   "id": "472760fe-bff5-4da1-aadf-2e51a725e138",
   "metadata": {},
   "outputs": [],
   "source": [
    "name=name.lower()"
   ]
  },
  {
   "cell_type": "code",
   "execution_count": null,
   "id": "52ff3258-fd4b-4606-82b5-b7a760b9b026",
   "metadata": {},
   "outputs": [],
   "source": [
    "name"
   ]
  },
  {
   "cell_type": "code",
   "execution_count": null,
   "id": "e4a11bd7",
   "metadata": {},
   "outputs": [],
   "source": [
    "# removing white space\n",
    "#name.strip()\n",
    "name.rstrip()\n",
    "#name.lstrip()"
   ]
  },
  {
   "cell_type": "code",
   "execution_count": null,
   "id": "2a39d6b7",
   "metadata": {},
   "outputs": [],
   "source": [
    "#If I want to capitalize every first letter of all the words?\n",
    "name.title()"
   ]
  },
  {
   "cell_type": "code",
   "execution_count": null,
   "id": "f4fa1e79",
   "metadata": {},
   "outputs": [],
   "source": [
    "name.split()"
   ]
  },
  {
   "cell_type": "markdown",
   "id": "54ad29f4",
   "metadata": {},
   "source": [
    "Some characters in Python require special attention:\n",
    "\n",
    "- \\n - Newline character\n",
    "- \\t - Tabulator\n",
    "- \\\" - literal double quote\n",
    "- \\\\ - Normal, single backslash\n",
    "\n",
    "Example: print(\"Hello! What\\'s up? How are you?\\nI\\'m doing fine.\")"
   ]
  },
  {
   "cell_type": "code",
   "execution_count": null,
   "id": "3cecca9c",
   "metadata": {},
   "outputs": [],
   "source": [
    "print('Hello! What\\'s up? How are you?\\nI\\'m doing fine.')"
   ]
  },
  {
   "cell_type": "code",
   "execution_count": null,
   "id": "b0e92a82",
   "metadata": {},
   "outputs": [],
   "source": [
    "print('Hello! What's up? How are you?\\nI\\'m doing fine.')"
   ]
  },
  {
   "cell_type": "markdown",
   "id": "5aa1e07b",
   "metadata": {},
   "source": [
    "# 4- Input function"
   ]
  },
  {
   "cell_type": "markdown",
   "id": "50857dd5",
   "metadata": {},
   "source": [
    "The programmer can get information from the user with the input() function. This function asks the user to enter a value. Beware that any data from the input function will be saved as a string. So if in order to transform the data to an integer use int(). Here is an example:"
   ]
  },
  {
   "cell_type": "code",
   "execution_count": null,
   "id": "2f7b2c96",
   "metadata": {},
   "outputs": [],
   "source": [
    "who = input('What is your name? ')\n",
    "print(f'Hello {who}, welcome')\n"
   ]
  },
  {
   "cell_type": "code",
   "execution_count": null,
   "id": "148e8091-7a27-4de7-bb58-62bcd0415152",
   "metadata": {},
   "outputs": [],
   "source": [
    "age = input(\"How old are you?\")\n",
    "\n",
    "age_new=age+2\n",
    "print(f'2 years later  you will be {age_new}')"
   ]
  },
  {
   "cell_type": "code",
   "execution_count": null,
   "id": "03d34ba4",
   "metadata": {},
   "outputs": [],
   "source": [
    "age = int(input(\"How old are you?\"))\n",
    "\n",
    "age_new=age+2\n",
    "print(f'2 years later  you will be {age_new}')"
   ]
  },
  {
   "cell_type": "code",
   "execution_count": null,
   "id": "dec7b254-f9a7-45d6-aa47-46199b2f67be",
   "metadata": {},
   "outputs": [],
   "source": []
  },
  {
   "cell_type": "code",
   "execution_count": null,
   "id": "190b2909-2c4f-44df-9d08-b4d963076e4d",
   "metadata": {},
   "outputs": [],
   "source": []
  },
  {
   "cell_type": "code",
   "execution_count": null,
   "id": "81ad4427-4aaf-410a-b30c-7545e2198e39",
   "metadata": {},
   "outputs": [],
   "source": []
  },
  {
   "cell_type": "code",
   "execution_count": null,
   "id": "8a3be0c9-dfeb-48bf-b389-e1f9c1751a0d",
   "metadata": {},
   "outputs": [],
   "source": []
  }
 ],
 "metadata": {
  "kernelspec": {
   "display_name": "Python 3 (ipykernel)",
   "language": "python",
   "name": "python3"
  },
  "language_info": {
   "codemirror_mode": {
    "name": "ipython",
    "version": 3
   },
   "file_extension": ".py",
   "mimetype": "text/x-python",
   "name": "python",
   "nbconvert_exporter": "python",
   "pygments_lexer": "ipython3",
   "version": "3.11.5"
  }
 },
 "nbformat": 4,
 "nbformat_minor": 5
}
