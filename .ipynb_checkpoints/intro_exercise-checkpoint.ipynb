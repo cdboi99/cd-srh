{
 "cells": [
  {
   "cell_type": "markdown",
   "id": "7d2fd0c5-c338-4452-9724-54bd34d5d548",
   "metadata": {},
   "source": [
    "## Basic mathematical operations\n",
    "Run the cells below and practice"
   ]
  },
  {
   "cell_type": "code",
   "execution_count": null,
   "id": "4be40a62-94eb-4392-aabc-ac268998516f",
   "metadata": {},
   "outputs": [],
   "source": [
    "1+5"
   ]
  },
  {
   "cell_type": "code",
   "execution_count": null,
   "id": "a139d0c1-6ac7-4a7b-88ac-7d597098bd09",
   "metadata": {},
   "outputs": [],
   "source": [
    "5-10"
   ]
  },
  {
   "cell_type": "code",
   "execution_count": null,
   "id": "9016796a-6d28-44f1-bf2a-20b112c87178",
   "metadata": {},
   "outputs": [],
   "source": [
    "20/4"
   ]
  },
  {
   "cell_type": "code",
   "execution_count": null,
   "id": "5d716d80-2187-4d3d-b234-0a14f10dccdc",
   "metadata": {},
   "outputs": [],
   "source": [
    "2*5"
   ]
  },
  {
   "cell_type": "code",
   "execution_count": null,
   "id": "8f2f6004-ddf9-4986-a4b6-61cd902b0182",
   "metadata": {},
   "outputs": [],
   "source": [
    "5**2"
   ]
  },
  {
   "cell_type": "code",
   "execution_count": null,
   "id": "90c6386f-91d0-4096-8296-f53ccb373abc",
   "metadata": {},
   "outputs": [],
   "source": []
  },
  {
   "cell_type": "markdown",
   "id": "2581ecd5-609f-4722-a593-b6d39edef4a2",
   "metadata": {},
   "source": [
    "## Division\n",
    "Run the cells below and try to understand the difference between them"
   ]
  },
  {
   "cell_type": "code",
   "execution_count": null,
   "id": "c1c3b16a-3f78-435c-a9b4-68f17a891c88",
   "metadata": {},
   "outputs": [],
   "source": [
    "8 / 3\n"
   ]
  },
  {
   "cell_type": "code",
   "execution_count": null,
   "id": "10477cc9-53cb-42dd-9496-f9a69049b75d",
   "metadata": {},
   "outputs": [],
   "source": [
    "8.0 / 3\n"
   ]
  },
  {
   "cell_type": "code",
   "execution_count": null,
   "id": "b00c752d-27d3-4e87-b081-304ef9cefac8",
   "metadata": {},
   "outputs": [],
   "source": [
    "8.0 / 3.0\n"
   ]
  },
  {
   "cell_type": "code",
   "execution_count": null,
   "id": "9d086e16-35a6-4d71-8a69-855ef8f536c1",
   "metadata": {},
   "outputs": [],
   "source": [
    "8 // 3\n"
   ]
  },
  {
   "cell_type": "code",
   "execution_count": null,
   "id": "d460f85f-14e3-4c81-95c2-eca6dc2429f1",
   "metadata": {},
   "outputs": [],
   "source": [
    "8%3"
   ]
  },
  {
   "cell_type": "code",
   "execution_count": null,
   "id": "df97c951-8baf-4071-978d-1540c5c04689",
   "metadata": {},
   "outputs": [],
   "source": [
    "10 //3"
   ]
  },
  {
   "cell_type": "code",
   "execution_count": null,
   "id": "1c13bcf2-0752-4523-9b33-e91fa1c6fcb7",
   "metadata": {},
   "outputs": [],
   "source": [
    "10%3"
   ]
  },
  {
   "cell_type": "code",
   "execution_count": null,
   "id": "53fa720b-fbac-4a1e-ad22-0ad7c7d89292",
   "metadata": {},
   "outputs": [],
   "source": []
  },
  {
   "cell_type": "markdown",
   "id": "725e3fa8-e795-41cb-a6e3-2d09175fb5b7",
   "metadata": {},
   "source": [
    "## Variables\n"
   ]
  },
  {
   "cell_type": "markdown",
   "id": "63ea4165-9162-4318-8225-1340f4f2e952",
   "metadata": {},
   "source": [
    "Assign an integer to the variable, then print it."
   ]
  },
  {
   "cell_type": "code",
   "execution_count": null,
   "id": "b1959370-2b7e-4133-a693-20a2cad49ea8",
   "metadata": {},
   "outputs": [],
   "source": [
    "x=5\n",
    "print(x)"
   ]
  },
  {
   "cell_type": "markdown",
   "id": "5b66d0e5-5006-4726-95ce-a5bfa27ff84f",
   "metadata": {},
   "source": [
    "Assign a string to the variable, then print it."
   ]
  },
  {
   "cell_type": "code",
   "execution_count": null,
   "id": "e1d92387-c6af-4007-8a6e-ce20fbfc1370",
   "metadata": {},
   "outputs": [],
   "source": [
    "y=\"saturday\"\n",
    "print(y)"
   ]
  },
  {
   "cell_type": "code",
   "execution_count": null,
   "id": "65199f3f-759d-4f28-acfe-a3485150e522",
   "metadata": {},
   "outputs": [],
   "source": [
    "x"
   ]
  },
  {
   "cell_type": "code",
   "execution_count": null,
   "id": "34b8690e-dbc6-4b0a-a9ba-4cfbf1f68055",
   "metadata": {},
   "outputs": [],
   "source": [
    "x+2"
   ]
  },
  {
   "cell_type": "code",
   "execution_count": null,
   "id": "3fb125d6-aecf-476f-b5c4-d5cc2d686d40",
   "metadata": {},
   "outputs": [],
   "source": [
    "print(x)+2"
   ]
  },
  {
   "cell_type": "code",
   "execution_count": null,
   "id": "2bf89f31-b8ad-4cbc-92cf-cc098dc8597f",
   "metadata": {},
   "outputs": [],
   "source": []
  },
  {
   "cell_type": "markdown",
   "id": "a69e4767-b3fe-4fde-8c95-e7bed45c8d1c",
   "metadata": {},
   "source": [
    "Fill in the gaps and run the cells"
   ]
  },
  {
   "cell_type": "code",
   "execution_count": null,
   "id": "39667ec4-7123-4b31-896d-e14130671446",
   "metadata": {},
   "outputs": [],
   "source": [
    "#The output should give 100\n",
    "pandas = 25\n",
    "pythons = 75\n",
    "pandas+pythons"
   ]
  },
  {
   "cell_type": "code",
   "execution_count": null,
   "id": "4fee142b-c8b3-4c2b-850b-c0f3e7f3c0f4",
   "metadata": {},
   "outputs": [],
   "source": [
    "#The output should give 81\n",
    "anaconda = 9\n",
    "miniconda = 2\n",
    "anaconda**miniconda"
   ]
  },
  {
   "cell_type": "code",
   "execution_count": null,
   "id": "40b35f2a-1021-4386-bd4d-92d3629760cc",
   "metadata": {},
   "outputs": [],
   "source": []
  },
  {
   "cell_type": "code",
   "execution_count": null,
   "id": "c210bffe-0dc1-481d-b429-31a7faec8989",
   "metadata": {},
   "outputs": [],
   "source": []
  },
  {
   "cell_type": "code",
   "execution_count": null,
   "id": "328e20ed-d20b-44c0-a45e-cfb65689dab6",
   "metadata": {},
   "outputs": [],
   "source": []
  },
  {
   "cell_type": "code",
   "execution_count": null,
   "id": "4d7a2715-e9ba-48f1-986d-9dc3cf769c02",
   "metadata": {},
   "outputs": [],
   "source": []
  },
  {
   "cell_type": "markdown",
   "id": "83968f9b-ac34-41f8-a0dc-3f57e335469e",
   "metadata": {},
   "source": [
    "## Find and solve all bugs in every cell and try to understand!"
   ]
  },
  {
   "cell_type": "code",
   "execution_count": null,
   "id": "265bc72c-f6a5-4416-a60d-f10a994b9dba",
   "metadata": {},
   "outputs": [],
   "source": [
    "name = \"SRH\""
   ]
  },
  {
   "cell_type": "code",
   "execution_count": null,
   "id": "94d82c33-5b05-430f-91b7-d7a7d8f53c18",
   "metadata": {},
   "outputs": [],
   "source": [
    "print(\"Hello\")"
   ]
  },
  {
   "cell_type": "code",
   "execution_count": null,
   "id": "a2014737-9b2b-4ac1-bdfd-ec5f7a5b1fe7",
   "metadata": {},
   "outputs": [],
   "source": [
    "print(\"Hello\", name, name)\n"
   ]
  },
  {
   "cell_type": "code",
   "execution_count": null,
   "id": "77f1651d-d151-41a5-9b70-5833ccd5c830",
   "metadata": {},
   "outputs": [],
   "source": [
    "print(\"Hello\" + name)"
   ]
  },
  {
   "cell_type": "code",
   "execution_count": null,
   "id": "1b5c1902-f9f9-4bad-9f7e-a4007fae845d",
   "metadata": {},
   "outputs": [],
   "source": [
    "print(\"Hello name\")"
   ]
  },
  {
   "cell_type": "code",
   "execution_count": null,
   "id": "7a49bce8-628f-48ee-8cc7-47be7f0a0064",
   "metadata": {},
   "outputs": [],
   "source": []
  },
  {
   "cell_type": "code",
   "execution_count": null,
   "id": "323406e0-65b0-417b-9ab6-3e4bedc51896",
   "metadata": {},
   "outputs": [],
   "source": []
  },
  {
   "cell_type": "markdown",
   "id": "e0e32f7b-8298-4766-a4e7-3a484ab116be",
   "metadata": {},
   "source": [
    "## Guess the type!"
   ]
  },
  {
   "cell_type": "code",
   "execution_count": null,
   "id": "f8d1d7da-0673-4ed9-85dc-1d661c0f4fd7",
   "metadata": {},
   "outputs": [],
   "source": [
    "name = \"SRH\" #string"
   ]
  },
  {
   "cell_type": "code",
   "execution_count": null,
   "id": "ff76a103-a58d-4e7b-a206-918404f2b45a",
   "metadata": {},
   "outputs": [],
   "source": [
    "b=3 #integer"
   ]
  },
  {
   "cell_type": "code",
   "execution_count": null,
   "id": "970012fe-7a0f-401f-b70c-75b0a5850141",
   "metadata": {},
   "outputs": [],
   "source": [
    "type(name)"
   ]
  },
  {
   "cell_type": "code",
   "execution_count": null,
   "id": "de7ec801-63be-493b-a08f-c53905bf92d5",
   "metadata": {},
   "outputs": [],
   "source": [
    "type(\"name\")"
   ]
  },
  {
   "cell_type": "code",
   "execution_count": null,
   "id": "2fe60fb2-715b-4211-a76b-780974e17a0b",
   "metadata": {},
   "outputs": [],
   "source": [
    "type(b)"
   ]
  },
  {
   "cell_type": "code",
   "execution_count": null,
   "id": "bd5c5970-3ad9-400a-a9e4-48433ba977a3",
   "metadata": {},
   "outputs": [],
   "source": [
    "type(\"b\")"
   ]
  },
  {
   "cell_type": "code",
   "execution_count": null,
   "id": "78ae318b-6c5a-4968-a4be-83048b7ca789",
   "metadata": {},
   "outputs": [],
   "source": [
    "h=8.0"
   ]
  },
  {
   "cell_type": "code",
   "execution_count": null,
   "id": "97ac6707-b670-4a0a-a768-0af5c922055a",
   "metadata": {},
   "outputs": [],
   "source": [
    "type(h)"
   ]
  },
  {
   "cell_type": "code",
   "execution_count": null,
   "id": "2a040239-2080-4999-823c-57bdd608a1e3",
   "metadata": {},
   "outputs": [],
   "source": []
  },
  {
   "cell_type": "code",
   "execution_count": null,
   "id": "d145837e-a5bf-44a5-9487-11a29f849159",
   "metadata": {},
   "outputs": [],
   "source": []
  },
  {
   "cell_type": "code",
   "execution_count": null,
   "id": "445e7036-d9ee-4862-bb7e-98234bfeb4b1",
   "metadata": {},
   "outputs": [],
   "source": []
  }
 ],
 "metadata": {
  "kernelspec": {
   "display_name": "Python 3 (ipykernel)",
   "language": "python",
   "name": "python3"
  },
  "language_info": {
   "codemirror_mode": {
    "name": "ipython",
    "version": 3
   },
   "file_extension": ".py",
   "mimetype": "text/x-python",
   "name": "python",
   "nbconvert_exporter": "python",
   "pygments_lexer": "ipython3",
   "version": "3.11.5"
  }
 },
 "nbformat": 4,
 "nbformat_minor": 5
}
